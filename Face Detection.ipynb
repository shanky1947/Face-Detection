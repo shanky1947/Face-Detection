{
 "cells": [
  {
   "cell_type": "code",
   "execution_count": 1,
   "metadata": {},
   "outputs": [],
   "source": [
    "import cv2"
   ]
  },
  {
   "cell_type": "code",
   "execution_count": 13,
   "metadata": {},
   "outputs": [],
   "source": [
    "imagepath='D://Images/IMG_20181014_102543.jpg'\n",
    "#algopath='D://ML/haarcascade_frontalface_default.xml'"
   ]
  },
  {
   "cell_type": "code",
   "execution_count": 14,
   "metadata": {},
   "outputs": [],
   "source": [
    "image=cv2.imread(imagepath)\n",
    "image=cv2.resize(image,(500,500))"
   ]
  },
  {
   "cell_type": "code",
   "execution_count": 15,
   "metadata": {},
   "outputs": [],
   "source": [
    "import matplotlib"
   ]
  },
  {
   "cell_type": "code",
   "execution_count": 26,
   "metadata": {},
   "outputs": [],
   "source": [
    "fcascade=cv2.CascadeClassifier('C://Users/shash/Downloads/haarcascade_frontalface_default.xml')"
   ]
  },
  {
   "cell_type": "code",
   "execution_count": 27,
   "metadata": {},
   "outputs": [],
   "source": [
    "faces=fcascade.detectMultiScale(image,scaleFactor=1.1,minSize=(40,40),minNeighbors=5,flags=cv2.CASCADE_SCALE_IMAGE)"
   ]
  },
  {
   "cell_type": "code",
   "execution_count": 28,
   "metadata": {},
   "outputs": [
    {
     "data": {
      "text/plain": [
       "1"
      ]
     },
     "execution_count": 28,
     "metadata": {},
     "output_type": "execute_result"
    }
   ],
   "source": [
    "len(faces)"
   ]
  },
  {
   "cell_type": "code",
   "execution_count": 29,
   "metadata": {},
   "outputs": [],
   "source": [
    "faces\n",
    "for(x,y,w,h) in faces:\n",
    "    cv2.rectangle(image,(x,y),(x+w,y+h), (0,255,0),2)\n",
    "cv2.imshow(str(len(faces)),image)  \n",
    "cv2.waitKey(0) #so that window waits till we press something\n",
    "cv2.destroyAllWindows()"
   ]
  },
  {
   "cell_type": "code",
   "execution_count": 30,
   "metadata": {},
   "outputs": [
    {
     "name": "stdout",
     "output_type": "stream",
     "text": [
      "1\n"
     ]
    }
   ],
   "source": [
    "print(len(faces))"
   ]
  },
  {
   "cell_type": "code",
   "execution_count": 11,
   "metadata": {},
   "outputs": [],
   "source": [
    "import time\n",
    "img=cv2.VideoCapture(0) #(1) for video camera\n",
    "state,pix=img.read()\n",
    "cv2.imshow('my_image',pix)\n",
    "cv2.imwrite('C://Users/shash/Downloads/my_image.jpg',pix)\n",
    "cv2.waitKey(0)\n",
    "img.release()\n",
    "cv2.destroyAllWindows()"
   ]
  },
  {
   "cell_type": "code",
   "execution_count": 1,
   "metadata": {},
   "outputs": [
    {
     "name": "stdout",
     "output_type": "stream",
     "text": [
      "1\n"
     ]
    }
   ],
   "source": [
    "import cv2\n",
    "import time\n",
    "algopath='C://Users/shash/Downloads/haarcascade_frontalface_default.xml'\n",
    "fcascade=cv2.CascadeClassifier(algopath)\n",
    "img=cv2.VideoCapture(0) #put this in infinte loop to capture video\n",
    "state,pix=img.read()\n",
    "faces=fcascade.detectMultiScale(pix,\n",
    "                         scaleFactor=1.1,\n",
    "                         minSize=(50,50),\n",
    "                         minNeighbors=5,\n",
    "                         flags=cv2.CASCADE_SCALE_IMAGE)\n",
    "print(len(faces))\n",
    "#for (x,y,w,h) in faces:\n",
    "#    cv2.rectangle(pix,(x,y),(x+w,y+h), (0,255,0),2)\n",
    "cv2.imshow(str(len(faces))+' Faces', pix)\n",
    "cv2.waitKey(0)\n",
    "img.release()\n",
    "cv2.destroyAllWindows()"
   ]
  },
  {
   "cell_type": "code",
   "execution_count": 9,
   "metadata": {},
   "outputs": [],
   "source": [
    "import time\n",
    "import cv2\n",
    "img=cv2.VideoCapture(0) #(1) for video camera\n",
    "state,pix=img.read()\n",
    "cv2.imshow('my_image',pix)\n",
    "cv2.imwrite('C://Users/shash/Downloads/my_image.jpg',pix)\n",
    "cv2.waitKey(0)\n",
    "img.release()\n",
    "cv2.destroyAllWindows()"
   ]
  },
  {
   "cell_type": "code",
   "execution_count": null,
   "metadata": {},
   "outputs": [],
   "source": []
  }
 ],
 "metadata": {
  "kernelspec": {
   "display_name": "Python 3",
   "language": "python",
   "name": "python3"
  },
  "language_info": {
   "codemirror_mode": {
    "name": "ipython",
    "version": 3
   },
   "file_extension": ".py",
   "mimetype": "text/x-python",
   "name": "python",
   "nbconvert_exporter": "python",
   "pygments_lexer": "ipython3",
   "version": "3.7.4"
  }
 },
 "nbformat": 4,
 "nbformat_minor": 2
}
